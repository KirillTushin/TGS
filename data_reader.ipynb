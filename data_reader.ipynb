{
 "cells": [
  {
   "cell_type": "code",
   "execution_count": null,
   "metadata": {},
   "outputs": [],
   "source": [
    "import os\n",
    "import numpy as np\n",
    "from keras.preprocessing.image import load_img\n",
    "from utils import *\n",
    "import matplotlib.pyplot as plt\n",
    "%matplotlib.inline"
   ]
  },
  {
   "cell_type": "code",
   "execution_count": null,
   "metadata": {},
   "outputs": [],
   "source": [
    "def data_reader(path, mode='train'):\n",
    "    ids = os.listdir(path + \"images\")\n",
    "    X = np.zeros((len(ids), 128, 128, 3), dtype=np.float32)\n",
    "    \n",
    "    for n, id_ in enumerate(ids):\n",
    "        x_img = np.array(load_img(path + '/images/' + id_))[:,:,0]\n",
    "        x_img = size_up(x_img)\n",
    "        for i in range(3):\n",
    "            X[n,:,:,i] = x_img / 255\n",
    "        \n",
    "    if mode == \"train\":\n",
    "        y = np.zeros((len(ids), 128, 128, 1), dtype=np.float32)\n",
    "        \n",
    "        for n, id_ in enumerate(ids):\n",
    "            mask = np.array(load_img(path + '/masks/' + id_))[:,:,0]\n",
    "            mask = size_up(mask)\n",
    "            y[n,:,:,0] = mask / 255\n",
    "        \n",
    "        return X, y\n",
    "\n",
    "    else:\n",
    "        return X"
   ]
  },
  {
   "cell_type": "code",
   "execution_count": null,
   "metadata": {},
   "outputs": [],
   "source": [
    "X, y = data_reader('input/train/', mode='train')\n",
    "X_test = data_reader('input/test/', mode='test')"
   ]
  },
  {
   "cell_type": "code",
   "execution_count": null,
   "metadata": {},
   "outputs": [],
   "source": [
    "from sklearn.model_selection import StratifiedKFold\n",
    "cv = StratifiedKFold(n_splits=4, random_state=42)\n",
    "\n",
    "y_square = np.array([int(sum(sum(y_))/100) for y_ in y])\n",
    "\n",
    "for i, (tr_index, vl_index) in enumerate(cv.split(X, y_square)):\n",
    "    X_train, X_valid = X[tr_index], X[vl_index]\n",
    "    y_train, y_valid = y[tr_index], y[vl_index]\n",
    "    \n",
    "    np.save('data/X_train_fold_{}'.format(i), X_train)\n",
    "    np.save('data/X_valid_fold_{}'.format(i), X_valid)\n",
    "    np.save('data/y_train_fold_{}'.format(i), y_train)\n",
    "    np.save('data/y_valid_fold_{}'.format(i), y_valid)\n",
    "\n",
    "np.save('data/X_test', X_test)"
   ]
  }
 ],
 "metadata": {
  "kernelspec": {
   "display_name": "Python 3",
   "language": "python",
   "name": "python3"
  },
  "language_info": {
   "codemirror_mode": {
    "name": "ipython",
    "version": 3
   },
   "file_extension": ".py",
   "mimetype": "text/x-python",
   "name": "python",
   "nbconvert_exporter": "python",
   "pygments_lexer": "ipython3",
   "version": "3.6.5"
  }
 },
 "nbformat": 4,
 "nbformat_minor": 2
}
