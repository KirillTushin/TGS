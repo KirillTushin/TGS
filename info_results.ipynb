{
 "cells": [
  {
   "cell_type": "code",
   "execution_count": 1,
   "metadata": {
    "scrolled": false
   },
   "outputs": [
    {
     "name": "stderr",
     "output_type": "stream",
     "text": [
      "Using TensorFlow backend.\n"
     ]
    }
   ],
   "source": [
    "import pandas as pd\n",
    "import numpy as np\n",
    "import os\n",
    "from utils import *\n",
    "from tqdm import tqdm_notebook\n",
    "\n",
    "import matplotlib.pyplot as plt\n",
    "%matplotlib inline"
   ]
  },
  {
   "cell_type": "code",
   "execution_count": 2,
   "metadata": {},
   "outputs": [],
   "source": [
    "results = list(filter(lambda x: x != '.ipynb_checkpoints', os.listdir('results/')))"
   ]
  },
  {
   "cell_type": "code",
   "execution_count": 3,
   "metadata": {
    "scrolled": false
   },
   "outputs": [
    {
     "data": {
      "text/html": [
       "<div>\n",
       "<style scoped>\n",
       "    .dataframe tbody tr th:only-of-type {\n",
       "        vertical-align: middle;\n",
       "    }\n",
       "\n",
       "    .dataframe tbody tr th {\n",
       "        vertical-align: top;\n",
       "    }\n",
       "\n",
       "    .dataframe thead th {\n",
       "        text-align: right;\n",
       "    }\n",
       "</style>\n",
       "<table border=\"1\" class=\"dataframe\">\n",
       "  <thead>\n",
       "    <tr style=\"text-align: right;\">\n",
       "      <th></th>\n",
       "      <th>model</th>\n",
       "      <th>score</th>\n",
       "      <th>thres</th>\n",
       "    </tr>\n",
       "  </thead>\n",
       "  <tbody>\n",
       "    <tr>\n",
       "      <th>0</th>\n",
       "      <td>Linknet_inceptionresnetv2_fold_</td>\n",
       "      <td>0.837810</td>\n",
       "      <td>0.433333</td>\n",
       "    </tr>\n",
       "    <tr>\n",
       "      <th>1</th>\n",
       "      <td>Unet_inceptionv3_fold_</td>\n",
       "      <td>0.836712</td>\n",
       "      <td>0.422500</td>\n",
       "    </tr>\n",
       "    <tr>\n",
       "      <th>2</th>\n",
       "      <td>Linknet_inceptionv3_fold_</td>\n",
       "      <td>0.836560</td>\n",
       "      <td>0.472500</td>\n",
       "    </tr>\n",
       "    <tr>\n",
       "      <th>3</th>\n",
       "      <td>Unet_inceptionresnetv2_fold_</td>\n",
       "      <td>0.836240</td>\n",
       "      <td>0.400000</td>\n",
       "    </tr>\n",
       "  </tbody>\n",
       "</table>\n",
       "</div>"
      ],
      "text/plain": [
       "                             model     score     thres\n",
       "0  Linknet_inceptionresnetv2_fold_  0.837810  0.433333\n",
       "1           Unet_inceptionv3_fold_  0.836712  0.422500\n",
       "2        Linknet_inceptionv3_fold_  0.836560  0.472500\n",
       "3     Unet_inceptionresnetv2_fold_  0.836240  0.400000"
      ]
     },
     "execution_count": 3,
     "metadata": {},
     "output_type": "execute_result"
    }
   ],
   "source": [
    "score = []\n",
    "thres = []\n",
    "model_name = []\n",
    "for res in results:\n",
    "    tmp = np.load('results/' + res)\n",
    "    score.append(tmp[0])\n",
    "    thres.append(tmp[1])\n",
    "    model_name.append(res)\n",
    "    \n",
    "res_df = pd.DataFrame(np.array([score, thres, model_name]).T, \n",
    "                      columns=['score', 'thres', 'model_name'])\n",
    "\n",
    "res_df['score'] = res_df['score'].astype(float)\n",
    "res_df['thres'] = res_df['thres'].astype(float)\n",
    "\n",
    "res_df = res_df.sort_values('score', ascending=False).reset_index(drop=True)\n",
    "res_df = res_df[res_df['score'] > 0]\n",
    "\n",
    "res_df['model'] = res_df['model_name'].apply(lambda x: x[:-5])\n",
    "res_df = res_df.groupby('model', as_index=False).mean().sort_values('score', ascending=False).reset_index(drop=True)\n",
    "res_df = res_df[:4]\n",
    "res_df"
   ]
  },
  {
   "cell_type": "code",
   "execution_count": 4,
   "metadata": {
    "scrolled": true
   },
   "outputs": [
    {
     "data": {
      "application/vnd.jupyter.widget-view+json": {
       "model_id": "70124e4e989945b88fa1292f06b881aa",
       "version_major": 2,
       "version_minor": 0
      },
      "text/plain": [
       "HBox(children=(IntProgress(value=0, max=4), HTML(value='')))"
      ]
     },
     "metadata": {},
     "output_type": "display_data"
    },
    {
     "name": "stdout",
     "output_type": "stream",
     "text": [
      "\n"
     ]
    }
   ],
   "source": [
    "test_array_for_blend = []\n",
    "for model_name in tqdm_notebook(res_df['model']):\n",
    "    all_by_name = list(filter(lambda x: x[5:-5] == model_name, os.listdir('prediction/')))\n",
    "    pred_by_model = np.mean([np.load('prediction/' + x) for x in all_by_name], axis=0)\n",
    "    test_array_for_blend.append(pred_by_model)\n",
    "    \n",
    "thres_array = res_df['thres'].values\n",
    "\n",
    "blend = 0\n",
    "div = len(test_array_for_blend)\n",
    "for i, a in enumerate(test_array_for_blend):\n",
    "    div += i\n",
    "    blend += a*(len(test_array_for_blend) - i)\n",
    "blend /= div\n",
    "\n",
    "thres = 0\n",
    "for i , t in enumerate(thres_array):\n",
    "    thres += t*(len(thres_array) - i)\n",
    "thres /= div\n",
    "\n",
    "blend = np.int8(blend > thres)"
   ]
  },
  {
   "cell_type": "code",
   "execution_count": 5,
   "metadata": {},
   "outputs": [],
   "source": [
    "create_submit(blend)"
   ]
  },
  {
   "cell_type": "code",
   "execution_count": 4,
   "metadata": {},
   "outputs": [],
   "source": [
    "data = data_reader(2)"
   ]
  },
  {
   "cell_type": "code",
   "execution_count": 5,
   "metadata": {},
   "outputs": [],
   "source": [
    "y_pred = np.load('prediction/val_Linknet_inceptionresnetv2_fold_2.npy')\n",
    "y_valid = np.array([size_down(x) for x in data['y_valid']])\n",
    "x_valid = np.array([size_down(x) for x in data['X_valid']])\n",
    "y_pred_porog = np.uint8(y_pred > 0.43)"
   ]
  },
  {
   "cell_type": "code",
   "execution_count": 6,
   "metadata": {},
   "outputs": [
    {
     "data": {
      "text/plain": [
       "0.8540899795501022"
      ]
     },
     "execution_count": 6,
     "metadata": {},
     "output_type": "execute_result"
    }
   ],
   "source": [
    "get_iou_vector(y_valid, y_pred_porog)"
   ]
  },
  {
   "cell_type": "code",
   "execution_count": 7,
   "metadata": {},
   "outputs": [],
   "source": [
    "import pydensecrf.densecrf as dcrf\n",
    "import numpy as np\n",
    "import pydensecrf.densecrf as dcrf\n",
    "from skimage.io import imread, imsave\n",
    "from pydensecrf.utils import unary_from_labels, create_pairwise_bilateral\n",
    "from skimage.color import gray2rgb\n",
    "from skimage.color import rgb2gray\n",
    "import matplotlib.pyplot as plt\n",
    "import pandas as pd\n",
    "from tqdm import tqdm\n",
    "\n",
    "def crf(original_image, mask_img):\n",
    "    \n",
    "    if(len(mask_img.shape)<3):\n",
    "        mask_img = gray2rgb(mask_img)\n",
    "\n",
    "    annotated_label = mask_img[:,:,0] + (mask_img[:,:,1]<<8) + (mask_img[:,:,2]<<16)\n",
    "    \n",
    "    colors, labels = np.unique(annotated_label, return_inverse=True)\n",
    "\n",
    "    n_labels = 2\n",
    "    \n",
    "    d = dcrf.DenseCRF2D(original_image.shape[1], original_image.shape[0], n_labels)\n",
    "\n",
    "    U = unary_from_labels(labels, n_labels, gt_prob=0.7, zero_unsure=False)\n",
    "    d.setUnaryEnergy(U)\n",
    "\n",
    "    d.addPairwiseGaussian(sxy=(3, 3), compat=3, kernel=dcrf.DIAG_KERNEL,\n",
    "                      normalization=dcrf.NORMALIZE_SYMMETRIC)\n",
    "        \n",
    "    Q = d.inference(10)\n",
    "\n",
    "    MAP = np.argmax(Q, axis=0)\n",
    "\n",
    "    return MAP.reshape((original_image.shape[0],original_image.shape[1]))"
   ]
  },
  {
   "cell_type": "code",
   "execution_count": 8,
   "metadata": {},
   "outputs": [
    {
     "data": {
      "application/vnd.jupyter.widget-view+json": {
       "model_id": "d9a93b49ca49454a95293048c6daefbb",
       "version_major": 2,
       "version_minor": 0
      },
      "text/plain": [
       "HBox(children=(IntProgress(value=0, max=978), HTML(value='')))"
      ]
     },
     "metadata": {},
     "output_type": "display_data"
    },
    {
     "name": "stdout",
     "output_type": "stream",
     "text": [
      "\n"
     ]
    }
   ],
   "source": [
    "y_pred_new = np.array([crf(x_valid[i][:,:,0], y_pred_porog[i][:,:,0]) for i in tqdm_notebook(range(len(x_valid)))])"
   ]
  },
  {
   "cell_type": "code",
   "execution_count": 15,
   "metadata": {},
   "outputs": [
    {
     "data": {
      "text/plain": [
       "0.0"
      ]
     },
     "execution_count": 15,
     "metadata": {},
     "output_type": "execute_result"
    }
   ],
   "source": [
    "get_iou_vector(y_valid, y_pred_porog) - get_iou_vector(y_valid, y_pred_new.reshape((978, 101, 101, 1)))"
   ]
  },
  {
   "cell_type": "code",
   "execution_count": 18,
   "metadata": {},
   "outputs": [
    {
     "data": {
      "text/plain": [
       "0.0097500365"
      ]
     },
     "execution_count": 18,
     "metadata": {},
     "output_type": "execute_result"
    }
   ],
   "source": [
    "(y_valid - y_pred_porog).mean()"
   ]
  },
  {
   "cell_type": "code",
   "execution_count": 19,
   "metadata": {},
   "outputs": [
    {
     "data": {
      "text/plain": [
       "0.010791175090296493"
      ]
     },
     "execution_count": 19,
     "metadata": {},
     "output_type": "execute_result"
    }
   ],
   "source": [
    "(y_valid - y_pred_new.reshape((978, 101, 101, 1))).mean()"
   ]
  },
  {
   "cell_type": "code",
   "execution_count": null,
   "metadata": {},
   "outputs": [],
   "source": []
  }
 ],
 "metadata": {
  "kernelspec": {
   "display_name": "Python 3",
   "language": "python",
   "name": "python3"
  },
  "language_info": {
   "codemirror_mode": {
    "name": "ipython",
    "version": 3
   },
   "file_extension": ".py",
   "mimetype": "text/x-python",
   "name": "python",
   "nbconvert_exporter": "python",
   "pygments_lexer": "ipython3",
   "version": "3.6.5"
  }
 },
 "nbformat": 4,
 "nbformat_minor": 2
}
